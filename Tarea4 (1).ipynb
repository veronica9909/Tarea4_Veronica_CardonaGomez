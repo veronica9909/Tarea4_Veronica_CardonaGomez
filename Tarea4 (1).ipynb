{
 "cells": [
  {
   "cell_type": "code",
   "execution_count": 13,
   "metadata": {},
   "outputs": [],
   "source": [
    "import pandas as pd #Importamos librerías\n",
    "import numpy as np\n",
    "from matplotlib import *"
   ]
  },
  {
   "cell_type": "markdown",
   "metadata": {},
   "source": [
    "# 1."
   ]
  },
  {
   "cell_type": "code",
   "execution_count": 14,
   "metadata": {},
   "outputs": [
    {
     "name": "stdout",
     "output_type": "stream",
     "text": [
      "               NAME    TEFF      MASS         A  DENSITY         R  \\\n",
      "0      Kepler-107 d  5851.0  0.003712  0.078010      NaN  0.095459   \n",
      "1     Kepler-1049 b  3864.0  0.002453  0.034472      NaN  0.085000   \n",
      "2      Kepler-813 b  5743.0  0.015970  0.137610      NaN  0.191000   \n",
      "3      Kepler-427 b  5800.0  0.290000  0.091351     0.16  1.230000   \n",
      "4     Kepler-1056 b  6127.0  0.027126  0.185149      NaN  0.269000   \n",
      "...             ...     ...       ...       ...      ...       ...   \n",
      "5742    KOI 7978.01  6297.0  0.012544  0.082100      NaN  0.148096   \n",
      "5743    KOI 7982.01  6231.0  0.033310  1.028700      NaN  0.290838   \n",
      "5744    KOI 8193.01  5570.0  0.045399  0.995500      NaN  0.331877   \n",
      "5745    KOI 7986.01  6119.0  0.000983  0.029000      NaN  0.064234   \n",
      "5746    KOI 7988.01  4989.0  1.000000  1.223300      NaN  1.721834   \n",
      "\n",
      "             STAR  MSTAR  RSTAR  BINARY  \n",
      "0      Kepler-107    NaN  1.411     0.0  \n",
      "1     Kepler-1049  0.510  0.490     0.0  \n",
      "2      Kepler-813  0.950  0.930     0.0  \n",
      "3      Kepler-427  0.960  1.350     0.0  \n",
      "4     Kepler-1056  1.120  1.200     0.0  \n",
      "...           ...    ...    ...     ...  \n",
      "5742     KOI 7978  1.398  2.219     NaN  \n",
      "5743     KOI 7982  1.025  0.955     NaN  \n",
      "5744     KOI 8193  0.971  0.855     NaN  \n",
      "5745     KOI 7986  1.075  1.031     NaN  \n",
      "5746     KOI 7988  2.190  7.824     NaN  \n",
      "\n",
      "[5747 rows x 10 columns]\n"
     ]
    }
   ],
   "source": [
    "datos=pd.read_csv('exoplanets.csv',low_memory=False)\n",
    "df=pd.DataFrame(datos) #Creamos un dataframe con el archivo dado.\n",
    "datos_necesarios=pd.DataFrame() #Creamos un dataframe vacío en el que iremos agragando las columnas de datos necesarios.\n",
    "datos_necesarios=datos_necesarios.assign(NAME=df[\"NAME\"].values)\n",
    "datos_necesarios=datos_necesarios.assign(TEFF=df[\"TEFF\"].values)\n",
    "datos_necesarios=datos_necesarios.assign(MASS=df[\"MASS\"].values)\n",
    "datos_necesarios=datos_necesarios.assign(A=df[\"A\"].values)\n",
    "datos_necesarios=datos_necesarios.assign(DENSITY=df[\"DENSITY\"].values)\n",
    "datos_necesarios=datos_necesarios.assign(R=df[\"R\"].values)\n",
    "datos_necesarios=datos_necesarios.assign(STAR=df[\"STAR\"].values)\n",
    "datos_necesarios=datos_necesarios.assign(MSTAR=df[\"MSTAR\"].values)\n",
    "datos_necesarios=datos_necesarios.assign(RSTAR=df[\"RSTAR\"].values)\n",
    "datos_necesarios=datos_necesarios.assign(BINARY=df[\"BINARY\"].values)\n",
    "\n",
    "print(datos_necesarios) #Verificamos.\n",
    "\n"
   ]
  },
  {
   "cell_type": "markdown",
   "metadata": {},
   "source": [
    "# 2."
   ]
  },
  {
   "cell_type": "code",
   "execution_count": 15,
   "metadata": {},
   "outputs": [],
   "source": [
    "datos_necesarios.drop(datos_necesarios[datos_necesarios['BINARY'] == 0].index, inplace = True) \n",
    "#Desacartamos los sistemas binarios, eliminamos los datos de la columna que sean iguales a cero."
   ]
  },
  {
   "cell_type": "markdown",
   "metadata": {},
   "source": [
    "# 3."
   ]
  },
  {
   "cell_type": "code",
   "execution_count": 38,
   "metadata": {},
   "outputs": [],
   "source": [
    "datos_necesarios[\"MASSE\"]= datos_necesarios[\"MASS\"]*317.91\n",
    "#Creamos una columna en masas terrestres con el factor de conversión 317.91."
   ]
  },
  {
   "cell_type": "markdown",
   "metadata": {},
   "source": [
    "# 4."
   ]
  },
  {
   "cell_type": "code",
   "execution_count": 39,
   "metadata": {},
   "outputs": [],
   "source": [
    "datos_necesarios[\"RE\"]= datos_necesarios[\"R\"]*11.209\n",
    "#Creamos una columna en radios terrestres con el factor de conversión 11.209."
   ]
  },
  {
   "cell_type": "markdown",
   "metadata": {},
   "source": [
    "# 5."
   ]
  },
  {
   "cell_type": "code",
   "execution_count": 40,
   "metadata": {},
   "outputs": [],
   "source": [
    "datos_necesarios[\"LUM\"]= ((datos_necesarios[\"RSTAR\"]/69.911*10**3)**2)*((datos_necesarios[\"TEFF\"])**4)*(4*np.pi)*(56704*(10**(-1*8)))\n",
    "#Añadimos la columna LUM realizando las operaciones debidas en unidades SI."
   ]
  },
  {
   "cell_type": "markdown",
   "metadata": {},
   "source": [
    "# 6."
   ]
  },
  {
   "cell_type": "code",
   "execution_count": 41,
   "metadata": {},
   "outputs": [],
   "source": [
    "ai=(2.7619)*np.e**(-1*5)\n",
    "bi=(3.8095)*np.e**(-1*9)\n",
    "ao=(1.3786)*np.e**(-1*4)\n",
    "bo=(1.4286)*np.e**(-1*9)\n",
    "\n",
    "datos_necesarios[\"ri\"]= (datos_necesarios[\"LUM\"]*0.5)*(0.72-ai*(datos_necesarios[\"TEFF\"]-5780)-bi*(datos_necesarios[\"TEFF\"]-5780)**2)\n",
    "datos_necesarios[\"ro\"]= (datos_necesarios[\"LUM\"]*0.5)*(1.77-ao*(datos_necesarios[\"TEFF\"]-5780)-bo*(datos_necesarios[\"TEFF\"]-5780)**2)\n",
    "#Añadimos las columnas de la zona de habitabilidad, realizando las operaciones debidas."
   ]
  },
  {
   "cell_type": "markdown",
   "metadata": {},
   "source": [
    "# 7."
   ]
  },
  {
   "cell_type": "code",
   "execution_count": 42,
   "metadata": {},
   "outputs": [],
   "source": [
    "datos_necesarios.drop(datos_necesarios[datos_necesarios['DENSITY'] <= 5].index, inplace = True) \n",
    "#Descartamos los planetas con densidad inferior a 5."
   ]
  },
  {
   "cell_type": "markdown",
   "metadata": {},
   "source": [
    "# 8."
   ]
  },
  {
   "cell_type": "code",
   "execution_count": 43,
   "metadata": {},
   "outputs": [
    {
     "data": {
      "text/html": [
       "<div>\n",
       "<style scoped>\n",
       "    .dataframe tbody tr th:only-of-type {\n",
       "        vertical-align: middle;\n",
       "    }\n",
       "\n",
       "    .dataframe tbody tr th {\n",
       "        vertical-align: top;\n",
       "    }\n",
       "\n",
       "    .dataframe thead th {\n",
       "        text-align: right;\n",
       "    }\n",
       "</style>\n",
       "<table border=\"1\" class=\"dataframe\">\n",
       "  <thead>\n",
       "    <tr style=\"text-align: right;\">\n",
       "      <th></th>\n",
       "      <th>NAME</th>\n",
       "      <th>TEFF</th>\n",
       "      <th>MASS</th>\n",
       "      <th>A</th>\n",
       "      <th>DENSITY</th>\n",
       "      <th>R</th>\n",
       "      <th>STAR</th>\n",
       "      <th>MSTAR</th>\n",
       "      <th>RSTAR</th>\n",
       "      <th>BINARY</th>\n",
       "      <th>MASSE</th>\n",
       "      <th>RE</th>\n",
       "      <th>LUM</th>\n",
       "      <th>ri</th>\n",
       "      <th>ro</th>\n",
       "    </tr>\n",
       "  </thead>\n",
       "  <tbody>\n",
       "    <tr>\n",
       "      <td>130</td>\n",
       "      <td>Kepler-310 d</td>\n",
       "      <td>5797.0</td>\n",
       "      <td>0.019315</td>\n",
       "      <td>0.401368</td>\n",
       "      <td>NaN</td>\n",
       "      <td>0.220359</td>\n",
       "      <td>Kepler-310</td>\n",
       "      <td>NaN</td>\n",
       "      <td>0.876</td>\n",
       "      <td>1.0</td>\n",
       "      <td>6.140432</td>\n",
       "      <td>2.470004</td>\n",
       "      <td>1.263438e+15</td>\n",
       "      <td>1.691557e+14</td>\n",
       "      <td>8.147908e+14</td>\n",
       "    </tr>\n",
       "    <tr>\n",
       "      <td>175</td>\n",
       "      <td>HD 145934 b</td>\n",
       "      <td>NaN</td>\n",
       "      <td>2.283820</td>\n",
       "      <td>4.606900</td>\n",
       "      <td>NaN</td>\n",
       "      <td>NaN</td>\n",
       "      <td>HD 145934</td>\n",
       "      <td>1.748</td>\n",
       "      <td>5.380</td>\n",
       "      <td>1.0</td>\n",
       "      <td>726.049216</td>\n",
       "      <td>NaN</td>\n",
       "      <td>NaN</td>\n",
       "      <td>NaN</td>\n",
       "      <td>NaN</td>\n",
       "    </tr>\n",
       "    <tr>\n",
       "      <td>202</td>\n",
       "      <td>Kepler-1365 b</td>\n",
       "      <td>5770.0</td>\n",
       "      <td>0.002158</td>\n",
       "      <td>0.076313</td>\n",
       "      <td>NaN</td>\n",
       "      <td>0.082000</td>\n",
       "      <td>Kepler-1365</td>\n",
       "      <td>1.000</td>\n",
       "      <td>1.050</td>\n",
       "      <td>1.0</td>\n",
       "      <td>0.686196</td>\n",
       "      <td>0.919138</td>\n",
       "      <td>1.781617e+15</td>\n",
       "      <td>7.652780e+14</td>\n",
       "      <td>1.785955e+15</td>\n",
       "    </tr>\n",
       "    <tr>\n",
       "      <td>239</td>\n",
       "      <td>Kepler-293 c</td>\n",
       "      <td>5804.0</td>\n",
       "      <td>0.046301</td>\n",
       "      <td>0.280136</td>\n",
       "      <td>NaN</td>\n",
       "      <td>0.341690</td>\n",
       "      <td>Kepler-293</td>\n",
       "      <td>NaN</td>\n",
       "      <td>0.957</td>\n",
       "      <td>1.0</td>\n",
       "      <td>14.719710</td>\n",
       "      <td>3.830003</td>\n",
       "      <td>1.515186e+15</td>\n",
       "      <td>1.951910e+12</td>\n",
       "      <td>8.049054e+14</td>\n",
       "    </tr>\n",
       "    <tr>\n",
       "      <td>258</td>\n",
       "      <td>Kepler-793 b</td>\n",
       "      <td>5745.0</td>\n",
       "      <td>0.008666</td>\n",
       "      <td>0.050937</td>\n",
       "      <td>NaN</td>\n",
       "      <td>0.122000</td>\n",
       "      <td>Kepler-793</td>\n",
       "      <td>0.980</td>\n",
       "      <td>0.970</td>\n",
       "      <td>1.0</td>\n",
       "      <td>2.755014</td>\n",
       "      <td>1.367498</td>\n",
       "      <td>1.494294e+15</td>\n",
       "      <td>5.942995e+14</td>\n",
       "      <td>1.821378e+15</td>\n",
       "    </tr>\n",
       "    <tr>\n",
       "      <td>...</td>\n",
       "      <td>...</td>\n",
       "      <td>...</td>\n",
       "      <td>...</td>\n",
       "      <td>...</td>\n",
       "      <td>...</td>\n",
       "      <td>...</td>\n",
       "      <td>...</td>\n",
       "      <td>...</td>\n",
       "      <td>...</td>\n",
       "      <td>...</td>\n",
       "      <td>...</td>\n",
       "      <td>...</td>\n",
       "      <td>...</td>\n",
       "      <td>...</td>\n",
       "      <td>...</td>\n",
       "    </tr>\n",
       "    <tr>\n",
       "      <td>5692</td>\n",
       "      <td>KOI 7928.01</td>\n",
       "      <td>NaN</td>\n",
       "      <td>NaN</td>\n",
       "      <td>NaN</td>\n",
       "      <td>NaN</td>\n",
       "      <td>NaN</td>\n",
       "      <td>KOI 7928</td>\n",
       "      <td>NaN</td>\n",
       "      <td>NaN</td>\n",
       "      <td>NaN</td>\n",
       "      <td>NaN</td>\n",
       "      <td>NaN</td>\n",
       "      <td>NaN</td>\n",
       "      <td>NaN</td>\n",
       "      <td>NaN</td>\n",
       "    </tr>\n",
       "    <tr>\n",
       "      <td>5710</td>\n",
       "      <td>KOI 8157.01</td>\n",
       "      <td>NaN</td>\n",
       "      <td>NaN</td>\n",
       "      <td>NaN</td>\n",
       "      <td>NaN</td>\n",
       "      <td>NaN</td>\n",
       "      <td>KOI 8157</td>\n",
       "      <td>NaN</td>\n",
       "      <td>NaN</td>\n",
       "      <td>NaN</td>\n",
       "      <td>NaN</td>\n",
       "      <td>NaN</td>\n",
       "      <td>NaN</td>\n",
       "      <td>NaN</td>\n",
       "      <td>NaN</td>\n",
       "    </tr>\n",
       "    <tr>\n",
       "      <td>5715</td>\n",
       "      <td>KOI 8270.01</td>\n",
       "      <td>5741.0</td>\n",
       "      <td>0.015916</td>\n",
       "      <td>0.929000</td>\n",
       "      <td>NaN</td>\n",
       "      <td>0.186458</td>\n",
       "      <td>KOI 8270</td>\n",
       "      <td>0.934</td>\n",
       "      <td>0.898</td>\n",
       "      <td>NaN</td>\n",
       "      <td>5.059984</td>\n",
       "      <td>2.090004</td>\n",
       "      <td>1.277131e+15</td>\n",
       "      <td>4.666028e+14</td>\n",
       "      <td>1.587851e+15</td>\n",
       "    </tr>\n",
       "    <tr>\n",
       "      <td>5720</td>\n",
       "      <td>KOI 7954.01</td>\n",
       "      <td>5769.0</td>\n",
       "      <td>0.013103</td>\n",
       "      <td>0.975800</td>\n",
       "      <td>NaN</td>\n",
       "      <td>0.155233</td>\n",
       "      <td>KOI 7954</td>\n",
       "      <td>0.900</td>\n",
       "      <td>0.812</td>\n",
       "      <td>NaN</td>\n",
       "      <td>4.165441</td>\n",
       "      <td>1.740003</td>\n",
       "      <td>1.064748e+15</td>\n",
       "      <td>4.620043e+14</td>\n",
       "      <td>1.078811e+15</td>\n",
       "    </tr>\n",
       "    <tr>\n",
       "      <td>5737</td>\n",
       "      <td>KOI 7973.01</td>\n",
       "      <td>NaN</td>\n",
       "      <td>NaN</td>\n",
       "      <td>NaN</td>\n",
       "      <td>NaN</td>\n",
       "      <td>NaN</td>\n",
       "      <td>KOI 7973</td>\n",
       "      <td>NaN</td>\n",
       "      <td>NaN</td>\n",
       "      <td>NaN</td>\n",
       "      <td>NaN</td>\n",
       "      <td>NaN</td>\n",
       "      <td>NaN</td>\n",
       "      <td>NaN</td>\n",
       "      <td>NaN</td>\n",
       "    </tr>\n",
       "  </tbody>\n",
       "</table>\n",
       "<p>322 rows × 15 columns</p>\n",
       "</div>"
      ],
      "text/plain": [
       "               NAME    TEFF      MASS         A  DENSITY         R  \\\n",
       "130    Kepler-310 d  5797.0  0.019315  0.401368      NaN  0.220359   \n",
       "175     HD 145934 b     NaN  2.283820  4.606900      NaN       NaN   \n",
       "202   Kepler-1365 b  5770.0  0.002158  0.076313      NaN  0.082000   \n",
       "239    Kepler-293 c  5804.0  0.046301  0.280136      NaN  0.341690   \n",
       "258    Kepler-793 b  5745.0  0.008666  0.050937      NaN  0.122000   \n",
       "...             ...     ...       ...       ...      ...       ...   \n",
       "5692    KOI 7928.01     NaN       NaN       NaN      NaN       NaN   \n",
       "5710    KOI 8157.01     NaN       NaN       NaN      NaN       NaN   \n",
       "5715    KOI 8270.01  5741.0  0.015916  0.929000      NaN  0.186458   \n",
       "5720    KOI 7954.01  5769.0  0.013103  0.975800      NaN  0.155233   \n",
       "5737    KOI 7973.01     NaN       NaN       NaN      NaN       NaN   \n",
       "\n",
       "             STAR  MSTAR  RSTAR  BINARY       MASSE        RE           LUM  \\\n",
       "130    Kepler-310    NaN  0.876     1.0    6.140432  2.470004  1.263438e+15   \n",
       "175     HD 145934  1.748  5.380     1.0  726.049216       NaN           NaN   \n",
       "202   Kepler-1365  1.000  1.050     1.0    0.686196  0.919138  1.781617e+15   \n",
       "239    Kepler-293    NaN  0.957     1.0   14.719710  3.830003  1.515186e+15   \n",
       "258    Kepler-793  0.980  0.970     1.0    2.755014  1.367498  1.494294e+15   \n",
       "...           ...    ...    ...     ...         ...       ...           ...   \n",
       "5692     KOI 7928    NaN    NaN     NaN         NaN       NaN           NaN   \n",
       "5710     KOI 8157    NaN    NaN     NaN         NaN       NaN           NaN   \n",
       "5715     KOI 8270  0.934  0.898     NaN    5.059984  2.090004  1.277131e+15   \n",
       "5720     KOI 7954  0.900  0.812     NaN    4.165441  1.740003  1.064748e+15   \n",
       "5737     KOI 7973    NaN    NaN     NaN         NaN       NaN           NaN   \n",
       "\n",
       "                ri            ro  \n",
       "130   1.691557e+14  8.147908e+14  \n",
       "175            NaN           NaN  \n",
       "202   7.652780e+14  1.785955e+15  \n",
       "239   1.951910e+12  8.049054e+14  \n",
       "258   5.942995e+14  1.821378e+15  \n",
       "...            ...           ...  \n",
       "5692           NaN           NaN  \n",
       "5710           NaN           NaN  \n",
       "5715  4.666028e+14  1.587851e+15  \n",
       "5720  4.620043e+14  1.078811e+15  \n",
       "5737           NaN           NaN  \n",
       "\n",
       "[322 rows x 15 columns]"
      ]
     },
     "execution_count": 43,
     "metadata": {},
     "output_type": "execute_result"
    }
   ],
   "source": [
    "datos_necesarios.drop(datos_necesarios[datos_necesarios['ri'] < 0].index, inplace = True) \n",
    "datos_necesarios.drop(datos_necesarios[datos_necesarios['ro'] < 0].index, inplace = True) \n",
    "#Desacartamos los planetas que no se encuentra en la zona de habitabilidad.\n",
    "datos_necesarios"
   ]
  },
  {
   "cell_type": "markdown",
   "metadata": {},
   "source": [
    "# 9."
   ]
  },
  {
   "cell_type": "markdown",
   "metadata": {},
   "source": [
    "## a)\n"
   ]
  },
  {
   "cell_type": "code",
   "execution_count": 44,
   "metadata": {},
   "outputs": [
    {
     "data": {
      "image/png": "[encoded data removed]",
      "text/plain": [
       "<Figure size 432x288 with 1 Axes>"
      ]
     },
     "metadata": {
      "needs_background": "light"
     },
     "output_type": "display_data"
    }
   ],
   "source": [
    "datos_necesarios.plot.scatter(x='MSTAR', y='A') #Graficamos masa vs distancia del planeta a la estrella.\n",
    "pyplot.title(\"Masa de la estrella vs Distancia a la estrella.\")\n",
    "pyplot.show()"
   ]
  },
  {
   "cell_type": "markdown",
   "metadata": {},
   "source": [
    "## b)"
   ]
  },
  {
   "cell_type": "code",
   "execution_count": 45,
   "metadata": {},
   "outputs": [
    {
     "data": {
      "image/png": "[encoded data removed]",
      "text/plain": [
       "<Figure size 432x288 with 1 Axes>"
      ]
     },
     "metadata": {
      "needs_background": "light"
     },
     "output_type": "display_data"
    }
   ],
   "source": [
    "datos_necesarios['A'].plot.hist(alpha=0.5) #Distancia del planeta a su estrella.\n",
    "pyplot.xlabel(\"\")\n",
    "pyplot.show()"
   ]
  },
  {
   "cell_type": "markdown",
   "metadata": {},
   "source": [
    "## c)"
   ]
  },
  {
   "cell_type": "code",
   "execution_count": 46,
   "metadata": {},
   "outputs": [
    {
     "data": {
      "image/png": "[encoded data removed]",
      "text/plain": [
       "<Figure size 432x288 with 1 Axes>"
      ]
     },
     "metadata": {
      "needs_background": "light"
     },
     "output_type": "display_data"
    }
   ],
   "source": [
    "datos_necesarios.plot.scatter(x='DENSITY', y='MSTAR') #Graficamos densidad del planeta vs masa de la estrella.\n",
    "pyplot.title(\"Densidad vs Masa de la estrella.\")\n",
    "pyplot.show()"
   ]
  },
  {
   "cell_type": "markdown",
   "metadata": {},
   "source": [
    "## d)\n"
   ]
  },
  {
   "cell_type": "code",
   "execution_count": 47,
   "metadata": {},
   "outputs": [
    {
     "data": {
      "image/png": "[encoded data removed]",
      "text/plain": [
       "<Figure size 432x288 with 1 Axes>"
      ]
     },
     "metadata": {
      "needs_background": "light"
     },
     "output_type": "display_data"
    }
   ],
   "source": [
    "datos_necesarios.plot.scatter(x='A', y='TEFF') #Graficamos temperatura efectiva vs distancia a la estrella.\n",
    "pyplot.title(\"Temperatura efectiva vs Distancia a la estrella.\")\n",
    "pyplot.show()"
   ]
  }
 ],
 "metadata": {
  "kernelspec": {
   "display_name": "Python 3",
   "language": "python",
   "name": "python3"
  },
  "language_info": {
   "codemirror_mode": {
    "name": "ipython",
    "version": 3
   },
   "file_extension": ".py",
   "mimetype": "text/x-python",
   "name": "python",
   "nbconvert_exporter": "python",
   "pygments_lexer": "ipython3",
   "version": "3.7.4"
  }
 },
 "nbformat": 4,
 "nbformat_minor": 2
}
